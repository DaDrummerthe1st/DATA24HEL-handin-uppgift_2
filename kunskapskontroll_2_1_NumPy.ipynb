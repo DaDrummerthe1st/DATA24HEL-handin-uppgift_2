{
 "cells": [
  {
   "cell_type": "markdown",
   "id": "dacf74e6",
   "metadata": {},
   "source": [
    "# NumPy"
   ]
  },
  {
   "cell_type": "markdown",
   "id": "01b2bf34",
   "metadata": {},
   "source": [
    "Read the links: https://numpy.org/doc/stable/user/quickstart.html  and https://numpy.org/doc/stable/user/basics.broadcasting.html  before solving the exercises. "
   ]
  },
  {
   "cell_type": "code",
   "execution_count": 9,
   "id": "1f79e4a6",
   "metadata": {},
   "outputs": [],
   "source": [
    "import numpy as np"
   ]
  },
  {
   "cell_type": "markdown",
   "id": "7dae6889",
   "metadata": {},
   "source": [
    "### Print out the dimension (number of axes), shape, size and the datatype of the matrix A."
   ]
  },
  {
   "cell_type": "code",
   "execution_count": 10,
   "id": "7b3678cd",
   "metadata": {},
   "outputs": [],
   "source": [
    "A = np.arange(1, 16).reshape(3,5)"
   ]
  },
  {
   "cell_type": "code",
   "execution_count": 11,
   "id": "31d39235",
   "metadata": {},
   "outputs": [
    {
     "name": "stdout",
     "output_type": "stream",
     "text": [
      "(3, 5)\n",
      "15\n",
      "int64\n",
      "2\n"
     ]
    }
   ],
   "source": [
    "print(A.shape)\n",
    "print(A.size)\n",
    "print(A.dtype)\n",
    "print(A.ndim)"
   ]
  },
  {
   "cell_type": "markdown",
   "id": "e56d2a96",
   "metadata": {},
   "source": [
    "### Do the following computations on the matrices B and C: \n",
    "* Elementwise subtraction. \n",
    "* Elementwise multiplication. \n",
    "* Matrix multiplication (by default you should use the @ operator)."
   ]
  },
  {
   "cell_type": "markdown",
   "id": "9ac3288b",
   "metadata": {},
   "source": []
  },
  {
   "cell_type": "code",
   "execution_count": 12,
   "id": "a7053fbb",
   "metadata": {},
   "outputs": [
    {
     "name": "stdout",
     "output_type": "stream",
     "text": [
      "[[1 2 3]\n",
      " [4 5 6]\n",
      " [7 8 9]]\n",
      "\n",
      "[[2. 2. 2.]\n",
      " [2. 2. 2.]\n",
      " [2. 2. 2.]]\n"
     ]
    }
   ],
   "source": [
    "B = np.arange(1, 10).reshape(3, 3)\n",
    "C = np.ones((3, 3))*2\n",
    "\n",
    "print(B)\n",
    "print()\n",
    "print(C)"
   ]
  },
  {
   "cell_type": "code",
   "execution_count": 13,
   "id": "3cd794ae",
   "metadata": {},
   "outputs": [
    {
     "name": "stdout",
     "output_type": "stream",
     "text": [
      "[[4. 4. 4.]\n",
      " [4. 4. 4.]\n",
      " [4. 4. 4.]]\n",
      "\n",
      "[[ 2  4  6]\n",
      " [ 8 10 12]\n",
      " [14 16 18]]\n",
      "[[ 3.  4.  5.]\n",
      " [ 6.  7.  8.]\n",
      " [ 9. 10. 11.]]\n",
      "[[-1.  0.  1.]\n",
      " [ 2.  3.  4.]\n",
      " [ 5.  6.  7.]]\n",
      "[[ 2.  4.  6.]\n",
      " [ 8. 10. 12.]\n",
      " [14. 16. 18.]]\n",
      "[[12. 12. 12.]\n",
      " [30. 30. 30.]\n",
      " [48. 48. 48.]]\n"
     ]
    }
   ],
   "source": [
    "print(str(C*2) + \"\\n\\n\" + str(B*2))\n",
    "print(B+C) # båda måste vara i samma shape eller att den ena är en skalär (aka ett enda värde)\n",
    "print(B-C) # båda måste vara i samma shape eller att den ena är en skalär (aka ett enda värde)\n",
    "print(B*C) # båda måste vara i samma shape eller att den ena är en skalär (aka ett enda värde)\n",
    "# Matrismulitplikation\n",
    "# A[0][0] multipliceras med B[0][0]\n",
    "# A[0][1] multipliceras med B[1][0]\n",
    "print(B@C) # Antalet kolumner i A måste vara detsamma som antalet rader i B\n",
    "# AB = [antalet rader i A][antalet kolumner i B]\n"
   ]
  },
  {
   "cell_type": "markdown",
   "id": "96030d53",
   "metadata": {},
   "source": [
    "### Do the following calculations on the matrix:\n",
    "* Exponentiate each number elementwise (use the np.exp function).\n",
    "\n",
    "* Calculate the minimum value in the whole matrix. \n",
    "* Calculcate the minimum value in each row. \n",
    "* Calculcate the minimum value in each column. \n",
    "\n",
    "\n",
    "* Find the index value for the minimum value in the whole matrix (hint: use np.argmin).\n",
    "* Find the index value for the minimum value in each row (hint: use np.argmin).\n",
    "\n",
    "\n",
    "* Calculate the sum for all elements.\n",
    "* Calculate the mean for each column. \n",
    "* Calculate the median for each column. "
   ]
  },
  {
   "cell_type": "code",
   "execution_count": 14,
   "id": "f8a9166b",
   "metadata": {},
   "outputs": [
    {
     "name": "stdout",
     "output_type": "stream",
     "text": [
      "print B\n",
      "[[1 2 3]\n",
      " [4 5 6]\n",
      " [7 8 9]]\n",
      "exponatiated each number\n",
      "[[ 1  4  9]\n",
      " [16 25 36]\n",
      " [49 64 81]]\n",
      "check for the lowest value element overall\n",
      "1\n",
      "lowest in each row\n",
      "out of these [1 2 3] 1 is the lowest\n",
      "out of these [4 5 6] 4 is the lowest\n",
      "out of these [7 8 9] 7 is the lowest\n",
      "lowest value in each column\n",
      "1\n",
      "2\n",
      "3\n",
      "[1 2 3]\n",
      "[1 2 3]\n",
      "Find the index value for the minimum value in the whole matrix \n",
      "0\n",
      "Find the index value for the minimum value in each row \n",
      "[0 0 0]\n",
      "Calculate the sum for all elements\n",
      "45\n",
      "Calculate the mean for each column.\n",
      "[4. 5. 6.]\n",
      "Calculate the median for each column.\n",
      "[4. 5. 6.]\n"
     ]
    }
   ],
   "source": [
    "B = np.arange(1, 10).reshape(3, 3)\n",
    "print(\"print B\")\n",
    "print(B)\n",
    "\n",
    "print(\"exponatiated each number\")\n",
    "print(B**2)\n",
    "\n",
    "print(\"check for the lowest value element overall\")\n",
    "print(B.min())\n",
    "\n",
    "print(\"lowest in each row\")\n",
    "for row in B:\n",
    "    print(f'out of these {row} ' + str(row.min()) + \" is the lowest\")\n",
    "# or:\n",
    "B.min(axis=0)\n",
    "\n",
    "print(\"lowest value in each column\")\n",
    "# .T is transpose fill each element in the list(=row) in a new list(=row). First row is instead first column\n",
    "for row in B.T:\n",
    "    print(min(row))\n",
    "# or\n",
    "print(B.min(axis=0))\n",
    "# or\n",
    "print(B.T.min(axis=1))\n",
    "\n",
    "print(\"Find the index value for the minimum value in the whole matrix \")\n",
    "# (hint: use np.argmin).\n",
    "print(B.argmin())\n",
    "\n",
    "print(\"Find the index value for the minimum value in each row \")\n",
    "# (hint: use np.argmin).\n",
    "print(B.argmin(axis=1))\n",
    "\n",
    "print(\"Calculate the sum for all elements\")\n",
    "print(B.sum())\n",
    "\n",
    "print(\"Calculate the mean for each column.\")\n",
    "print(B.mean(axis=0))\n",
    "\n",
    "print(\"Calculate the median for each column.\")\n",
    "print(np.median(B, axis=0))"
   ]
  },
  {
   "cell_type": "code",
   "execution_count": 15,
   "id": "f03f24f7",
   "metadata": {},
   "outputs": [
    {
     "name": "stdout",
     "output_type": "stream",
     "text": [
      "Dessa nuffror fick vi fram: [np.int64(6), np.int64(7), np.int64(8), np.int64(9)]\n",
      "Dessa nuffror fick vi fram: 6|7|8|9\n"
     ]
    }
   ],
   "source": [
    "# List comprehension\n",
    "# ger alltid en lista\n",
    "print(f'Dessa nuffror fick vi fram: {[elem for row in B for elem in row if elem > 5]}')\n",
    "# därför gör jag en join\n",
    "print(f'Dessa nuffror fick vi fram: {\"|\".join([str(elem) for row in B for elem in row if elem > 5])}')"
   ]
  },
  {
   "cell_type": "markdown",
   "id": "541eb7ba",
   "metadata": {},
   "source": [
    "### What does it mean when you provide fewer indices than axes when slicing? See example below."
   ]
  },
  {
   "cell_type": "code",
   "execution_count": 16,
   "id": "9c8abf56",
   "metadata": {},
   "outputs": [
    {
     "name": "stdout",
     "output_type": "stream",
     "text": [
      "[[ 1  2  3  4  5]\n",
      " [ 6  7  8  9 10]\n",
      " [11 12 13 14 15]]\n"
     ]
    }
   ],
   "source": [
    "print(A)"
   ]
  },
  {
   "cell_type": "code",
   "execution_count": 17,
   "id": "69415f7b",
   "metadata": {},
   "outputs": [
    {
     "data": {
      "text/plain": [
       "array([ 6,  7,  8,  9, 10])"
      ]
     },
     "execution_count": 17,
     "metadata": {},
     "output_type": "execute_result"
    }
   ],
   "source": [
    "A[1]"
   ]
  },
  {
   "cell_type": "markdown",
   "id": "6c53541b",
   "metadata": {},
   "source": [
    "**Answer:**"
   ]
  },
  {
   "cell_type": "markdown",
   "id": "de01e120",
   "metadata": {},
   "source": [
    "only the mentioned dimensions are shown"
   ]
  },
  {
   "cell_type": "markdown",
   "id": "6652d0c9",
   "metadata": {},
   "source": [
    "### Iterating over multidimensional arrays is done with respect to the first axis, so in the example below we iterate trough the rows. If you would like to iterate through the array *elementwise*, how would you do that?"
   ]
  },
  {
   "cell_type": "code",
   "execution_count": 18,
   "id": "9459864f",
   "metadata": {},
   "outputs": [
    {
     "data": {
      "text/plain": [
       "array([[ 1,  2,  3,  4,  5],\n",
       "       [ 6,  7,  8,  9, 10],\n",
       "       [11, 12, 13, 14, 15]])"
      ]
     },
     "execution_count": 18,
     "metadata": {},
     "output_type": "execute_result"
    }
   ],
   "source": [
    "A"
   ]
  },
  {
   "cell_type": "code",
   "execution_count": 19,
   "id": "a671bb5a",
   "metadata": {},
   "outputs": [
    {
     "name": "stdout",
     "output_type": "stream",
     "text": [
      "[1 2 3 4 5]\n",
      "[ 6  7  8  9 10]\n",
      "[11 12 13 14 15]\n"
     ]
    }
   ],
   "source": [
    "for i in A:\n",
    "    print(i)"
   ]
  },
  {
   "cell_type": "code",
   "execution_count": 20,
   "id": "f4e443a0",
   "metadata": {},
   "outputs": [
    {
     "name": "stdout",
     "output_type": "stream",
     "text": [
      "[[ 1  2  3  4  5]\n",
      " [ 6  7  8  9 10]\n",
      " [11 12 13 14 15]]\n"
     ]
    }
   ],
   "source": [
    "print(A[:,:])"
   ]
  },
  {
   "cell_type": "markdown",
   "id": "608a2583",
   "metadata": {},
   "source": [
    "### Explain what the code below does. More specifically, b has three axes - what does this mean? "
   ]
  },
  {
   "cell_type": "code",
   "execution_count": 21,
   "id": "f8f9b26f",
   "metadata": {},
   "outputs": [
    {
     "name": "stdout",
     "output_type": "stream",
     "text": [
      "[ 0  1  2  3  4  5  6  7  8  9 10 11 12 13 14 15 16 17 18 19 20 21 22 23\n",
      " 24 25 26 27 28 29]\n",
      "\n",
      "[[[ 0  1  2  3  4]\n",
      "  [ 5  6  7  8  9]\n",
      "  [10 11 12 13 14]]\n",
      "\n",
      " [[15 16 17 18 19]\n",
      "  [20 21 22 23 24]\n",
      "  [25 26 27 28 29]]]\n"
     ]
    }
   ],
   "source": [
    "a = np.arange(30)\n",
    "b = np.reshape(a, shape=(2, 3, -1)) # -1 is \"calculate missing value\" \n",
    "print(a)\n",
    "print()\n",
    "\n",
    "print(b)"
   ]
  },
  {
   "cell_type": "markdown",
   "id": "863a45df",
   "metadata": {},
   "source": [
    "#### Lines:\n",
    "1. a is declared as a list of 30 integers is created\n",
    "2. b is declared as a reshape of a in 2 rows and 3 columns and a z axis with an arbituary value, calculated by NumPy. The third axis is also the thrid dimension.\n",
    "3. a is printed, as we can see all of it is in the same row\n",
    "4. an empty row is printed\n",
    "5. \n",
    "6. b is printed and we can clearly see it is three dimensional. I think it is easier to let all new dimensions and arrays have their own row, as demonstrated below:\n",
    "```\n",
    "[ # first dimension\n",
    "    [ # second dimension\n",
    "        [ 0  1  2  3  4] # third dimension\n",
    "        [ 5  6  7  8  9] # 3rd\n",
    "        [10 11 12 13 14]# 3rd\n",
    "    ], # 2nd\n",
    "    [ # 2nd\n",
    "        [15 16 17 18 19] # 3rd\n",
    "        [20 21 22 23 24] # 3rd\n",
    "        [25 26 27 28 29] # 3rd\n",
    "    ] # 2nd\n",
    "] # 1st\n",
    "```\n",
    "\n"
   ]
  },
  {
   "cell_type": "markdown",
   "id": "421c9607-819a-401d-949a-97424436fe29",
   "metadata": {},
   "source": [
    "# For the exercises below, read the document *\"matematik_yh_antonio_vektorer_matriser_utdrag\"*\n",
    "# Solutions to the exercises and recorded videos can be found here: https://github.com/AntonioPrgomet/matematik_foer_yh\n",
    "\n",
    "# If you find the exercises below very hard, do not worry. Try your best, that will be enough. "
   ]
  },
  {
   "cell_type": "markdown",
   "id": "ab5933d5",
   "metadata": {},
   "source": [
    "### Broadcasting\n",
    "**Read the following link about broadcasting: https://numpy.org/doc/stable/user/basics.broadcasting.html#basics-broadcasting**"
   ]
  },
  {
   "cell_type": "markdown",
   "id": "039805ba",
   "metadata": {},
   "source": [
    "# Remark on Broadcasting when doing Linear Algebra calculations in Python. "
   ]
  },
  {
   "cell_type": "markdown",
   "id": "c4bcc147",
   "metadata": {},
   "source": [
    "### From the mathematical rules of matrix addition, the operation below (m1 + m2) does not make sense. The reason is that matrix addition requires two matrices of the same size. In Python however, it works due to broadcasting rules in NumPy. So you must be careful when doing Linear Algebra calculations in Python since they do not follow the \"mathematical rules\". This can however easily be handled by doing some simple programming, for example validating that two matrices have the same shape is easy if you for instance want to add two matrices. "
   ]
  },
  {
   "cell_type": "code",
   "execution_count": 22,
   "id": "1fd46778",
   "metadata": {},
   "outputs": [
    {
     "name": "stdout",
     "output_type": "stream",
     "text": [
      "not the same shape\n"
     ]
    }
   ],
   "source": [
    "m1 = np.array([[1, 2], [3, 4]])\n",
    "m2 = np.array([1, 1])\n",
    "if m1.shape == m2.shape:\n",
    "    print(m1 + m2)\n",
    "else:\n",
    "    print(\"not the same shape\")"
   ]
  },
  {
   "cell_type": "markdown",
   "id": "047d6576",
   "metadata": {},
   "source": [
    "### The example below would also not be allowed if following the \"mathematical rules\" in Linear Algebra. But it works due to broadcasting in NumPy. "
   ]
  },
  {
   "cell_type": "code",
   "execution_count": 23,
   "id": "5e6ef2e4",
   "metadata": {},
   "outputs": [
    {
     "name": "stdout",
     "output_type": "stream",
     "text": [
      "[2 3 4]\n"
     ]
    }
   ],
   "source": [
    "v1 = np.array([1, 2, 3])\n",
    "print(v1 + 1)"
   ]
  },
  {
   "cell_type": "code",
   "execution_count": 24,
   "id": "e2cbae26",
   "metadata": {},
   "outputs": [
    {
     "name": "stdout",
     "output_type": "stream",
     "text": [
      "[[1 2]\n",
      " [3 4]]\n",
      "[2 2]\n"
     ]
    }
   ],
   "source": [
    "A = np.arange(1, 5).reshape(2,2)\n",
    "print(A)\n",
    "\n",
    "b = np.array([2, 2])\n",
    "print(b)"
   ]
  },
  {
   "cell_type": "markdown",
   "id": "722fd5cd",
   "metadata": {},
   "source": [
    "# Vector- and matrix algebra Exercises"
   ]
  },
  {
   "cell_type": "markdown",
   "id": "b63a3081-d976-4d9f-bfd0-a63917e79f7d",
   "metadata": {},
   "source": [
    "**Now you are going to create a function that can be reused every time you add or multiply matrices. The function is created so that we do the addition and multiplication according to the rules of vector- and matrix algebra.**\n",
    "\n",
    "**Create a function \"add_mult_matrices\" that takes two matrices as input arguments (validate that the input are of the type numpy.ndarray by using the isinstance function), a third argument that is either 'add' or 'multiply' that specifies if you want to add or multiply the matrices (validate that the third argument is either 'add' or 'multiply'). When doing matrix addition, validate that the matrices have the same size. When doing matrix multiplication, validate that the sizes conform (i.e. number of columns in the first matrix is equal to the number of rows in the second matrix).**"
   ]
  },
  {
   "cell_type": "code",
   "execution_count": 80,
   "id": "5bf59a9b",
   "metadata": {},
   "outputs": [
    {
     "name": "stdout",
     "output_type": "stream",
     "text": [
      "everything has worked out, here's your matrice addition: \n",
      " [[ 2  4  6]\n",
      " [ 8 10 12]]\n",
      "\n",
      "\n",
      "everything has worked out, here's your matrice multiplication: \n",
      " [[22 28]\n",
      " [49 64]]\n",
      "\n",
      "\n",
      "matrice_1 and matrice_2 need to have the same shape for matrix addition\n",
      "matrice_1 is of shape (2, 3)\n",
      "matrice_2 is of shape (3, 2)\n",
      "\n",
      "\n",
      "matrice_1 has to have equal amount of columns as matrice_2 has rows!\n",
      "matrice_1 has 3 columns and matrice_2 has 2 rows\n",
      "\n",
      "\n",
      "Kwarg method must be either 'add' or 'multiply'\n",
      "method says touchdwn!\n",
      "\n",
      "\n"
     ]
    }
   ],
   "source": [
    "initial = np.arange(1, 7)\n",
    "m1 = initial.reshape(2, 3)\n",
    "m2 = initial.reshape(3, 2)\n",
    "\n",
    "\n",
    "def add_mult_matrices(matrice_1, matrice_2, /, method):\n",
    "    if not isinstance(matrice_1, np.ndarray) or not isinstance(matrice_2, np.ndarray):\n",
    "        print(f\"Wrong datatype of matrices. Should be numpy.ndarray\")\n",
    "        print(f\"matrice_1 is {type(matrice_1)}\")\n",
    "        print(f\"matrice_1 is {type(matrice_2)}\")\n",
    "    else:\n",
    "        match method:\n",
    "            case 'add':\n",
    "                if matrice_1.shape != matrice_2.shape:\n",
    "                    print(\n",
    "                        f'matrice_1 and matrice_2 need to have the same shape for matrix addition')\n",
    "                    print(f'matrice_1 is of shape {matrice_1.shape}')\n",
    "                    print(f'matrice_2 is of shape {matrice_2.shape}')\n",
    "                else:\n",
    "                    print(f'everything has worked out, here\\'s your matrice addition: \\n {\n",
    "                        matrice_1 + matrice_2}')\n",
    "            case 'multiply':\n",
    "                # in this case we can ONLY compare 2d ndarrays with the shape of at least (2,2).\n",
    "                # To make 3d+ possible I would have to write another if-statement for each dimension\n",
    "                if matrice_1.shape[1] != matrice_2.shape[0]:\n",
    "                    print(\n",
    "                        'matrice_1 has to have equal amount of columns as matrice_2 has rows!')\n",
    "                    print(f'matrice_1 has {matrice_1.shape[1]} columns and matrice_2 has {\n",
    "                        matrice_2.shape[0]} rows')\n",
    "                else:\n",
    "                    print(f'everything has worked out, here\\'s your matrice multiplication: \\n {\n",
    "                        matrice_1@matrice_2}')\n",
    "            case _:\n",
    "                print(\"Kwarg method must be either 'add' or 'multiply'\")\n",
    "                print(f'method says {method}')\n",
    "\n",
    "\n",
    "test_runs = [\n",
    "    (m1, m1, 'add'),\n",
    "    (m1, m2, 'multiply'),\n",
    "    (m1, m2, 'add'),\n",
    "    (m1, m1, 'multiply'),\n",
    "    (m1, m1, 'touchdwn!')\n",
    "]\n",
    "\n",
    "for run in test_runs:\n",
    "    add_mult_matrices(*run)\n",
    "    print('\\n')\n",
    "\n",
    "# add_mult_matrices(m1, m1, method='add')\n",
    "# add_mult_matrices(m1, m2, method='multiply')\n",
    "# add_mult_matrices(m1, m2, method='add')\n",
    "# add_mult_matrices(m1, m1, method='multiply')\n",
    "# add_mult_matrices(m1, m1, method='touchdown!')"
   ]
  },
  {
   "cell_type": "markdown",
   "id": "8dad82d0-2359-4dff-8f5b-a57d3e34103c",
   "metadata": {},
   "source": [
    "### Solve all the exercises in chapter 10.1 in the book \"Matematik för yrkeshögskolan\" by using Python. "
   ]
  },
  {
   "cell_type": "code",
   "execution_count": 61,
   "id": "89df88af-3668-4d98-a0a4-e6d92eea0f89",
   "metadata": {},
   "outputs": [
    {
     "name": "stdout",
     "output_type": "stream",
     "text": [
      "(2,)\n",
      "[[4 3]]\n",
      "a\n",
      "(1, 2)\n",
      "b\n",
      "[[20 15]]\n",
      "c\n",
      "[[12  9]]\n",
      "d\n",
      "[[32 24]]\n",
      "e\n",
      "[[32 24]]\n",
      "f\n",
      "[[12  9]]\n",
      "g\n",
      "[[4]\n",
      " [3]]\n",
      "(2, 1)\n",
      "h\n",
      "x.T + x är inte definierat men fungerar i Numpy\n",
      "[[8 7]\n",
      " [7 6]]\n",
      "i\n",
      "5.0\n"
     ]
    }
   ],
   "source": [
    "# Uppgifterna 10.1.1\n",
    "\n",
    "y = np.array([4,3]) # en matematisk vektor i Numpy representeras alltid av en array\n",
    "print(y.shape)\n",
    "x = y.reshape(1,2) # pga differensen mellan matteboken och numpy\n",
    "print(x)\n",
    "\n",
    "print(\"a\")\n",
    "print(x.shape)\n",
    "\n",
    "print(\"b\")\n",
    "print(5 * x)\n",
    "\n",
    "print(\"c\")\n",
    "print(3 * x)\n",
    "\n",
    "print(\"d\")\n",
    "print((5 * x) + (3 * x))\n",
    "\n",
    "print(\"e\")\n",
    "print(8 * x)\n",
    "\n",
    "print(\"f\")\n",
    "print((4 * x) - x)\n",
    "\n",
    "print(\"g\")\n",
    "print(x.T)\n",
    "print(x.T.shape)\n",
    "\n",
    "print(\"h\")\n",
    "print(\"x.T + x är inte definierat men fungerar i Numpy\")\n",
    "print(x.T + x)\n",
    "\n",
    "print(\"i\")\n",
    "x_norm = np.linalg.norm(x)\n",
    "print(x_norm)"
   ]
  },
  {
   "cell_type": "code",
   "execution_count": 68,
   "id": "9c609fbf",
   "metadata": {},
   "outputs": [
    {
     "name": "stdout",
     "output_type": "stream",
     "text": [
      "a\n",
      "(4, 1)\n",
      "b\n",
      "[[ 6]\n",
      " [14]\n",
      " [ 0]\n",
      " [22]]\n",
      "c\n",
      "[[21]\n",
      " [49]\n",
      " [ 0]\n",
      " [77]]\n",
      "d\n",
      "[[ 6]\n",
      " [14]\n",
      " [ 0]\n",
      " [22]]\n",
      "e\n",
      "[[ 3  7  0 11]]\n",
      "13.379088160259652\n"
     ]
    }
   ],
   "source": [
    "# Uppgifterna 10.1.2\n",
    "\n",
    "vector = [\n",
    "    [3],\n",
    "    [7],\n",
    "    [0],\n",
    "    [11]\n",
    "]\n",
    "\n",
    "v = np.array(vector) # because Numpy...\n",
    "\n",
    "print(\"a\")\n",
    "print(v.shape)\n",
    "\n",
    "print(\"b\")\n",
    "print((2*v))\n",
    "\n",
    "print(\"c\")\n",
    "print((5*v) + (2*v))\n",
    "\n",
    "print(\"d\")\n",
    "print((4*v) - (2*v))\n",
    "\n",
    "print(\"e\")\n",
    "print(v.T)\n",
    "\n",
    "v_norm = np.linalg.norm(v)\n",
    "print(v_norm)"
   ]
  },
  {
   "cell_type": "code",
   "execution_count": 73,
   "id": "3a3d49e0",
   "metadata": {},
   "outputs": [
    {
     "name": "stdout",
     "output_type": "stream",
     "text": [
      "(4,)\n",
      "\n",
      "a\n",
      "7.14142842854285\n",
      "b\n",
      "4.47213595499958\n"
     ]
    }
   ],
   "source": [
    "# Uppgifterna 10.1.3\n",
    "vector_1 = [4,3,1,5]\n",
    "vector_2 = [2,3,1,1]\n",
    "\n",
    "vector_1 = np.array(vector_1)\n",
    "vector_2 = np.array(vector_2)\n",
    "print(str(vector_1.shape) + \"\\n\")\n",
    "\n",
    "print(\"a\")\n",
    "vector_1_norm = np.linalg.norm(vector_1)\n",
    "print(vector_1_norm)\n",
    "\n",
    "print(\"b\")\n",
    "vector_1_minus_vector_2_norm = np.linalg.norm((vector_1 - vector_2))\n",
    "print(vector_1_minus_vector_2_norm)"
   ]
  },
  {
   "cell_type": "markdown",
   "id": "75c98984-1f88-4df1-b850-d2466de444a5",
   "metadata": {},
   "source": [
    "### Solve all the exercises, except 10.2.4, in chapter 10.2 in the book \"Matematik för yrkeshögskolan\" by using Python. "
   ]
  },
  {
   "cell_type": "code",
   "execution_count": 82,
   "id": "65371610-16e1-48b2-b7fb-65e49002608a",
   "metadata": {},
   "outputs": [
    {
     "name": "stdout",
     "output_type": "stream",
     "text": [
      "(2, 3)\n",
      "(2, 3)\n",
      "(2, 2)\n",
      "(2, 2)\n",
      "(2, 1)\n",
      "(2, 2)\n"
     ]
    }
   ],
   "source": [
    "# Uppgifterna 10.2.1\n",
    "A = [\n",
    "    [2, 1, -1],\n",
    "    [1, -1, 1]\n",
    "]\n",
    "\n",
    "B = [\n",
    "    [4, -2, 1],\n",
    "    [2, -4, -2]\n",
    "]\n",
    "\n",
    "C = [\n",
    "    [1, 2],\n",
    "    [2, 1]\n",
    "]\n",
    "\n",
    "D = [\n",
    "    [3, 4],\n",
    "    [4, 3]\n",
    "]\n",
    "\n",
    "E = [\n",
    "    [1],\n",
    "    [2]\n",
    "]\n",
    "\n",
    "I = [\n",
    "    [1, 0],\n",
    "    [0, 1]\n",
    "]\n",
    "\n",
    "A = np.array(A)\n",
    "B = np.array(B)\n",
    "C = np.array(C)\n",
    "D = np.array(D)\n",
    "E = np.array(E)\n",
    "I = np.array(I)\n",
    "\n",
    "print(A.shape)\n",
    "print(B.shape)\n",
    "print(C.shape)\n",
    "print(D.shape)\n",
    "print(E.shape)\n",
    "print(I.shape)\n"
   ]
  },
  {
   "cell_type": "code",
   "execution_count": 98,
   "id": "f9ee0926",
   "metadata": {},
   "outputs": [
    {
     "name": "stdout",
     "output_type": "stream",
     "text": [
      "a )\n",
      "[[ 4  2 -2]\n",
      " [ 2 -2  2]]\n",
      "b )\n",
      "[[ 0 -4  3]\n",
      " [ 0 -2 -4]]\n",
      "c )\n",
      "\"3C - 2E\" är ej definierat\n",
      "d )\n",
      "[[3 2]\n",
      " [2 3]]\n",
      "e )\n",
      "[[ 9 12]\n",
      " [12  9]]\n",
      "f )\n",
      "[[-4 -4]\n",
      " [-4 -4]]\n",
      "g )\n",
      "\"A.T - B\" är ej definierat\n",
      "h )\n",
      "\"AC\" är ej definierat\n",
      "i )\n",
      "[[11 10]\n",
      " [10 11]]\n",
      "j )\n",
      "[[  8 -10  -3]\n",
      " [ 10  -8   0]]\n",
      "k )\n",
      "[[1 2]\n",
      " [2 1]]\n",
      "l )\n",
      "[[5 2]\n",
      " [7 4]]\n"
     ]
    }
   ],
   "source": [
    "# 10.2.1 forts...\n",
    "print('a )')\n",
    "print(2*A)\n",
    "\n",
    "print('b )')\n",
    "print(B-2*A)\n",
    "\n",
    "print('c )')\n",
    "print('\"3C - 2E\" är ej definierat')\n",
    "\n",
    "print('d )')\n",
    "print(2*D - 3*C)\n",
    "\n",
    "print('e )')\n",
    "print(D.T + 2*D)\n",
    "\n",
    "print('f )')\n",
    "print(2*C.T - 2*D.T)\n",
    "\n",
    "print('g )')\n",
    "print('\"A.T - B\" är ej definierat')\n",
    "\n",
    "\n",
    "print('h )')\n",
    "print('\"AC\" är ej definierat')\n",
    "\n",
    "print('i )')\n",
    "print(C@D)\n",
    "\n",
    "print('j )')\n",
    "print(C@B)\n",
    "\n",
    "print('k )')\n",
    "print(C@I)\n",
    "\n",
    "print('l )')\n",
    "print(A@B.T)"
   ]
  },
  {
   "cell_type": "code",
   "execution_count": 99,
   "id": "ab79b9cc",
   "metadata": {},
   "outputs": [
    {
     "name": "stdout",
     "output_type": "stream",
     "text": [
      "[[29 26]\n",
      " [26 42]]\n"
     ]
    }
   ],
   "source": [
    "# Uppgift 10.2.2\n",
    "A = [\n",
    "    [2, 3, 4],\n",
    "    [5, 4, 1]\n",
    "]\n",
    "A = np.array(A)\n",
    "print(A@A.T)"
   ]
  },
  {
   "cell_type": "code",
   "execution_count": 109,
   "id": "d56d60eb",
   "metadata": {},
   "outputs": [
    {
     "name": "stdout",
     "output_type": "stream",
     "text": [
      "True\n",
      "False\n"
     ]
    }
   ],
   "source": [
    "# Uppgift 10.2.3\n",
    "A = [\n",
    "    [1, 2],\n",
    "    [2, 4]\n",
    "]\n",
    "B = [\n",
    "    [2, 1],\n",
    "    [1, 3]\n",
    "]\n",
    "C = [\n",
    "    [4, 3],\n",
    "    [0, 2]\n",
    "]\n",
    "A = np.array(A)\n",
    "B = np.array(B)\n",
    "C = np.array(C)\n",
    "\n",
    "print(A@B)\n",
    "print(A@C)\n",
    "\n",
    "# as per this StackOverflow suggestion with 669 points:\n",
    "# https://stackoverflow.com/questions/10580676/comparing-two-numpy-arrays-for-equality-element-wise\n",
    "print(np.array_equal((A@B),(A@C)))\n",
    "print(np.array_equal((B),(C)))"
   ]
  },
  {
   "cell_type": "markdown",
   "id": "6a4a524f",
   "metadata": {},
   "source": [
    "### Copies and Views\n",
    "Read the following link: https://numpy.org/doc/stable/user/basics.copies.html"
   ]
  },
  {
   "cell_type": "markdown",
   "id": "6cbbeaf7",
   "metadata": {},
   "source": [
    "**Basic indexing creates a view, How can you check if v1 and v2 is a view or copy? If you change the last element in v2 to 123, will the last element in v1 be changed? Why?**"
   ]
  },
  {
   "cell_type": "code",
   "execution_count": 16,
   "id": "5b9ef4df",
   "metadata": {},
   "outputs": [
    {
     "name": "stdout",
     "output_type": "stream",
     "text": [
      "[0 1 2 3]\n",
      "[2 3]\n"
     ]
    }
   ],
   "source": [
    "v1 = np.arange(4)\n",
    "v2 = v1[-2:]\n",
    "print(v1)\n",
    "print(v2)"
   ]
  },
  {
   "cell_type": "code",
   "execution_count": 17,
   "id": "d2440489",
   "metadata": {},
   "outputs": [
    {
     "name": "stdout",
     "output_type": "stream",
     "text": [
      "None\n",
      "[0 1 2 3]\n"
     ]
    }
   ],
   "source": [
    "# The base attribute of a view returns the original array while it returns None for a copy.\n",
    "print(v1.base)\n",
    "print(v2.base)"
   ]
  },
  {
   "cell_type": "code",
   "execution_count": 18,
   "id": "c8752807",
   "metadata": {},
   "outputs": [
    {
     "name": "stdout",
     "output_type": "stream",
     "text": [
      "[  0   1   2 123]\n",
      "[  2 123]\n"
     ]
    }
   ],
   "source": [
    "# The last element in v1 will be changed aswell since v2 is a view, meaning they share the same data buffer.\n",
    "v2[-1] = 123\n",
    "print(v1)\n",
    "print(v2)"
   ]
  },
  {
   "cell_type": "code",
   "execution_count": null,
   "id": "3dd68221",
   "metadata": {},
   "outputs": [],
   "source": []
  }
 ],
 "metadata": {
  "kernelspec": {
   "display_name": ".venv",
   "language": "python",
   "name": "python3"
  },
  "language_info": {
   "codemirror_mode": {
    "name": "ipython",
    "version": 3
   },
   "file_extension": ".py",
   "mimetype": "text/x-python",
   "name": "python",
   "nbconvert_exporter": "python",
   "pygments_lexer": "ipython3",
   "version": "3.12.3"
  }
 },
 "nbformat": 4,
 "nbformat_minor": 5
}
